{
 "cells": [
  {
   "cell_type": "code",
   "execution_count": 14,
   "metadata": {},
   "outputs": [],
   "source": [
    "import pandas as pd\n",
    "import glob\n",
    "import json"
   ]
  },
  {
   "cell_type": "code",
   "execution_count": 11,
   "metadata": {},
   "outputs": [],
   "source": [
    "json_files_path = '/root/projects/Ben_Kishore/modelmanagement/model_scrape/*Model*.json'"
   ]
  },
  {
   "cell_type": "code",
   "execution_count": 41,
   "metadata": {},
   "outputs": [],
   "source": [
    "dataframes = [pd.read_json(file) for file in glob.glob(json_files_path)]\n",
    "combined_df = pd.concat(dataframes, ignore_index=True)"
   ]
  },
  {
   "cell_type": "code",
   "execution_count": 42,
   "metadata": {},
   "outputs": [],
   "source": [
    "combined_df = combined_df.drop_duplicates(subset='link')"
   ]
  },
  {
   "cell_type": "code",
   "execution_count": 34,
   "metadata": {},
   "outputs": [
    {
     "data": {
      "text/html": [
       "<div>\n",
       "<style scoped>\n",
       "    .dataframe tbody tr th:only-of-type {\n",
       "        vertical-align: middle;\n",
       "    }\n",
       "\n",
       "    .dataframe tbody tr th {\n",
       "        vertical-align: top;\n",
       "    }\n",
       "\n",
       "    .dataframe thead th {\n",
       "        text-align: right;\n",
       "    }\n",
       "</style>\n",
       "<table border=\"1\" class=\"dataframe\">\n",
       "  <thead>\n",
       "    <tr style=\"text-align: right;\">\n",
       "      <th></th>\n",
       "      <th>id</th>\n",
       "      <th>name</th>\n",
       "      <th>slug</th>\n",
       "      <th>premium</th>\n",
       "      <th>link</th>\n",
       "    </tr>\n",
       "  </thead>\n",
       "  <tbody>\n",
       "    <tr>\n",
       "      <th>0</th>\n",
       "      <td>3972534</td>\n",
       "      <td>Laure</td>\n",
       "      <td>laure-bartolini</td>\n",
       "      <td>False</td>\n",
       "      <td>https://www.modelmanagement.com/model/laure-ba...</td>\n",
       "    </tr>\n",
       "    <tr>\n",
       "      <th>1</th>\n",
       "      <td>3972389</td>\n",
       "      <td>Michelle</td>\n",
       "      <td>michelle-milann</td>\n",
       "      <td>False</td>\n",
       "      <td>https://www.modelmanagement.com/model/michelle...</td>\n",
       "    </tr>\n",
       "    <tr>\n",
       "      <th>2</th>\n",
       "      <td>3973026</td>\n",
       "      <td>María</td>\n",
       "      <td>maria-fernanda-diaz-gonzalez</td>\n",
       "      <td>False</td>\n",
       "      <td>https://www.modelmanagement.com/model/maria-fe...</td>\n",
       "    </tr>\n",
       "    <tr>\n",
       "      <th>3</th>\n",
       "      <td>3962229</td>\n",
       "      <td>Zana</td>\n",
       "      <td>zana-flores</td>\n",
       "      <td>True</td>\n",
       "      <td>https://www.modelmanagement.com/model/zana-flores</td>\n",
       "    </tr>\n",
       "    <tr>\n",
       "      <th>4</th>\n",
       "      <td>1753581</td>\n",
       "      <td>Chloé</td>\n",
       "      <td>chloe-martinez-2</td>\n",
       "      <td>False</td>\n",
       "      <td>https://www.modelmanagement.com/model/chloe-ma...</td>\n",
       "    </tr>\n",
       "    <tr>\n",
       "      <th>...</th>\n",
       "      <td>...</td>\n",
       "      <td>...</td>\n",
       "      <td>...</td>\n",
       "      <td>...</td>\n",
       "      <td>...</td>\n",
       "    </tr>\n",
       "    <tr>\n",
       "      <th>83749</th>\n",
       "      <td>690</td>\n",
       "      <td>Monika</td>\n",
       "      <td>monika-gocman</td>\n",
       "      <td>False</td>\n",
       "      <td>https://www.modelmanagement.com/model/monika-g...</td>\n",
       "    </tr>\n",
       "    <tr>\n",
       "      <th>83750</th>\n",
       "      <td>676</td>\n",
       "      <td>isabella</td>\n",
       "      <td>isabella-syrek</td>\n",
       "      <td>True</td>\n",
       "      <td>https://www.modelmanagement.com/model/isabella...</td>\n",
       "    </tr>\n",
       "    <tr>\n",
       "      <th>83751</th>\n",
       "      <td>638</td>\n",
       "      <td>Nicoletta</td>\n",
       "      <td>nicoletta-mandriotti</td>\n",
       "      <td>False</td>\n",
       "      <td>https://www.modelmanagement.com/model/nicolett...</td>\n",
       "    </tr>\n",
       "    <tr>\n",
       "      <th>83752</th>\n",
       "      <td>632</td>\n",
       "      <td>Isabela</td>\n",
       "      <td>isabela-devoto</td>\n",
       "      <td>False</td>\n",
       "      <td>https://www.modelmanagement.com/model/isabela-...</td>\n",
       "    </tr>\n",
       "    <tr>\n",
       "      <th>83755</th>\n",
       "      <td>277</td>\n",
       "      <td>Adam</td>\n",
       "      <td>adam-bahadoor</td>\n",
       "      <td>False</td>\n",
       "      <td>https://www.modelmanagement.com/model/adam-bah...</td>\n",
       "    </tr>\n",
       "  </tbody>\n",
       "</table>\n",
       "<p>53126 rows × 5 columns</p>\n",
       "</div>"
      ],
      "text/plain": [
       "            id       name                          slug  premium  \\\n",
       "0      3972534      Laure               laure-bartolini    False   \n",
       "1      3972389   Michelle               michelle-milann    False   \n",
       "2      3973026      María  maria-fernanda-diaz-gonzalez    False   \n",
       "3      3962229       Zana                   zana-flores     True   \n",
       "4      1753581      Chloé              chloe-martinez-2    False   \n",
       "...        ...        ...                           ...      ...   \n",
       "83749      690     Monika                 monika-gocman    False   \n",
       "83750      676   isabella                isabella-syrek     True   \n",
       "83751      638  Nicoletta          nicoletta-mandriotti    False   \n",
       "83752      632    Isabela                isabela-devoto    False   \n",
       "83755      277       Adam                 adam-bahadoor    False   \n",
       "\n",
       "                                                    link  \n",
       "0      https://www.modelmanagement.com/model/laure-ba...  \n",
       "1      https://www.modelmanagement.com/model/michelle...  \n",
       "2      https://www.modelmanagement.com/model/maria-fe...  \n",
       "3      https://www.modelmanagement.com/model/zana-flores  \n",
       "4      https://www.modelmanagement.com/model/chloe-ma...  \n",
       "...                                                  ...  \n",
       "83749  https://www.modelmanagement.com/model/monika-g...  \n",
       "83750  https://www.modelmanagement.com/model/isabella...  \n",
       "83751  https://www.modelmanagement.com/model/nicolett...  \n",
       "83752  https://www.modelmanagement.com/model/isabela-...  \n",
       "83755  https://www.modelmanagement.com/model/adam-bah...  \n",
       "\n",
       "[53126 rows x 5 columns]"
      ]
     },
     "execution_count": 34,
     "metadata": {},
     "output_type": "execute_result"
    }
   ],
   "source": [
    "combined_df"
   ]
  },
  {
   "cell_type": "code",
   "execution_count": 43,
   "metadata": {},
   "outputs": [],
   "source": [
    "out_path = '/root/projects/Ben_Kishore/modelmanagement/model_scrape/'\n",
    "combined_df.to_json(f'{out_path}entries_full.json',orient='records', indent=4)"
   ]
  },
  {
   "cell_type": "code",
   "execution_count": 45,
   "metadata": {},
   "outputs": [
    {
     "data": {
      "text/plain": [
       "54716"
      ]
     },
     "execution_count": 45,
     "metadata": {},
     "output_type": "execute_result"
    }
   ],
   "source": [
    "len(combined_df)"
   ]
  }
 ],
 "metadata": {
  "kernelspec": {
   "display_name": "venv",
   "language": "python",
   "name": "python3"
  },
  "language_info": {
   "codemirror_mode": {
    "name": "ipython",
    "version": 3
   },
   "file_extension": ".py",
   "mimetype": "text/x-python",
   "name": "python",
   "nbconvert_exporter": "python",
   "pygments_lexer": "ipython3",
   "version": "3.10.12"
  }
 },
 "nbformat": 4,
 "nbformat_minor": 2
}
